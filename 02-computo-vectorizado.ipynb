{
 "cells": [
  {
   "cell_type": "markdown",
   "id": "legislative-picture",
   "metadata": {},
   "source": [
    "# 02: Cómputo vectorizado\n",
    "\n",
    "Contacto: [@io_exception](https://twitter.com/io_exception) · [That C# guy en YouTube](https://www.youtube.com/channel/UC8KCb358oioQMcJ5pUfs8UQ) · [Discord](https://tcsg.dev/discord) · [Resto del curso](https://youtube.com/playlist?list=PL6cBnnS2SIgrIUumF2WDTDIiH_lODkLGq) · [GitHub](https://github.com/thatcsharpguy/df)"
   ]
  },
  {
   "cell_type": "markdown",
   "id": "assigned-review",
   "metadata": {},
   "source": [
    "## Paquetes  \n",
    "\n",
    " - `matplotlib`\n",
    " - `numpy`"
   ]
  },
  {
   "cell_type": "markdown",
   "id": "indonesian-cause",
   "metadata": {},
   "source": [
    "## Tipos de dato en Python  \n",
    "\n",
    "### Tipos base\n",
    "\n",
    " - Números **enteros** - `int`\n",
    " - Números **flotantes** - `float`\n",
    " - Números **complejos** - `complex`\n",
    " - Cadenas - `str`\n",
    " - Booleanos - `bool`\n",
    "\n",
    "### Contenedores  \n",
    "\n",
    " - Listas - `list`\n",
    " - Tuplas - `tuple`\n",
    " - Mapas - `dict`\n",
    " - Conjuntos - `set`\n",
    "\n",
    "muy importantes pero, no tan interesantes a comparación de..."
   ]
  },
  {
   "cell_type": "markdown",
   "id": "departmental-history",
   "metadata": {},
   "source": [
    "## Los arreglos nuéricos multidimensionales\n",
    "\n",
    " > 🗣️ Los arreglos multidimensionales también se conocen como *ndarrays*, *N-dimensional arrays*.\n",
    "\n",
    "Es un tipo de dato que nos sirve para representar colecciones de números, es un tipo **no nativo** de Python. \n",
    "\n",
    "### Razones  \n",
    "\n",
    "#### Representación de elementos complejos  \n",
    "\n",
    "Imágenes, videos, canciones, modelos 3d... todos estas cosas se pueden representar como arreglos multidimensionales: una canción es un areglo unidimensional de intensidades de sonido, una imagen es un arreglo bidimensional de valores de brillo, y un vídeo es un areglo tridimensional, dos de las dimensiones son brillos y la otra representa el tiempo, un modelo 3d es in conjunto de puntos en un espacio tridimensional representado como un arreglo multidimensional.\n",
    "\n",
    "#### Trabajar con \"datos científicos\"  \n",
    "\n",
    "Usualmente realizamos experimentos científicos repetidamente, obteniendo de ellos una secuencia de valores que podemos representar fácilmente como un arreglo. Otras veces hacemos un solo experimento sobre múltiples sujetos, obtieniendo de ellos una secuencia de valores. ¡A veces hacemos las dos cosas a la vez!\n",
    "\n",
    "#### Elegancia 🧐\n",
    "\n",
    "Los arreglos multidimensionales nos permiten aplicar y extender las operaciones que podemos aplicar a números individuales para aplicarselos a todos los elementos del arreglo de forma concisa y fácil de leer; la alternativa es escribir ciclos para aplicar operaciones a distintos elementos de una colección (ver ejemplo).\n",
    "\n",
    "\n",
    "#### Eficiencia  \n",
    "\n",
    "Los arreglos multidimensionales son relativamente compactos (comparados con una lista, por ejemplo) y almacenan la información de forma muy eficiente, lo cual los hace ideales para lidiar con problemas en los que tenemos que lidiar con grandes cantidades de datos.\n",
    "\n",
    "## Una instrucción, muchos datos  \n",
    "\n",
    "El tema central de esta sesión es la introducción al **cómputo vectorizado** (ojo, ¡no vectorial!). Nosotros vamos a conocer bajo este término a la práctica de escribir código que se aplique a múltiples elementos de un arreglo de forma simultanea. Esto se también como [SIMD](https://en.wikipedia.org/wiki/SIMD) (*Single Instruction Multiple Data*) y representa una forma de implementar cómputo paralelo restringido a operaciones numéricas sobre arreglos, claro.\n",
    "\n",
    "### GPUs \n",
    "\n",
    "Uno de los ejemplos por excelencia de dónde es que ocurren este tipo de operaciones es en las tarjetas gráficas, hace poco mencioné que podemos representar modelos 3D usando arreglos multidimensionales; para hacer que estos objetos se muevan mediante rotaciones, traslaciones y demás, debemos aplicar sobre ellos operaciones matemáticas y para eso es que se ocupan este tipo de tarjetas.  \n",
    "\n",
    "Estas tarjetas están especialmente diseñadas (y programadas) para lidiar de manera eficiente con arreglos numéricos y múltiples operaciones que podemos usar para manipularlos. Es por eso que son muy importantes en el mundo de los videojuegos; pero no solo ahí, puesto que cualquier operacion que representemos como arreglos puede ser llevada a cabo en una GPU.\n",
    "\n",
    "Además de  GPUs, Google creó algo llamado **TPUs** (*Tensor Processor Unit*) que es una versión orientada a la manipulación de arreglos multidimensionales para su framework de Deep Learning Tensorflow."
   ]
  },
  {
   "cell_type": "markdown",
   "id": "generous-jewel",
   "metadata": {},
   "source": [
    " > ⚠️ **Listas en Python**: Las listas en python son listas de objetos, si creamos una lista de enteros en realidad no es una lista de enteros, sino una lista de apuntadores a enteros; estos enteros pueden estar distribuídos en la memoria de la computadora de forma aleatoria.\n"
   ]
  },
  {
   "cell_type": "markdown",
   "id": "mexican-metallic",
   "metadata": {},
   "source": [
    "## Las cosas por su nombre  \n",
    "\n",
    "Hasta el momento hemos estado hablando de \"arreglos multidimensionales\", pero existen nombres específicos para arreglos con 1, 2 y 3 o más dimensiones:\n",
    "\n",
    "<img src=\"assets/02/vector-tensor-matriz.jpg\" />"
   ]
  },
  {
   "cell_type": "markdown",
   "id": "closing-wilson",
   "metadata": {},
   "source": [
    "## Propiedades de los arreglos  \n",
    "\n",
    " - Tamaño (siempre \"rectangulares\")\n",
    " - Tipo\n",
    " \n",
    "#### Ejemplo 1   \n",
    " \n",
    "```text\n",
    " [0 0 0]  \n",
    " [0 0 0]  \n",
    " [0 0 0]\n",
    "```\n",
    "**Tamaño**: (3, 3), **tipo**: enteros\n",
    " \n",
    "#### Ejemplo 2   \n",
    " \n",
    "```text\n",
    " [1.3 2.3 3.5 4.1 5.9]  \n",
    "```\n",
    "**Tamaño**: (5,), **tipo**: float\n",
    " \n",
    "#### Ejemplo 3 ❌   \n",
    " \n",
    "```text\n",
    " [1.3 2.3 3.5]  \n",
    " [0.0 3.5]  \n",
    " [1.3 2.3 3.5 1.1]  \n",
    "```\n",
    "**Tamaño**: (????), **tipo**: float\n",
    " \n",
    "Como ya mencioné anteriormente, las listas en Python son *listas de objetos*; por el contrario, los *ndarrays* almacenan los números como *números* y de forma contigua en memoria; la biblioteca que nos permite interactuar con estos objetos en Python nos permite interactuar con los arreglos como valores numéricos en Python, pero en realidad no lo son. \n",
    "\n",
    "La importancia de que los arreglos tengan un tipo uniforme para todos sus valores tiene que ver con la eficiencia a la hora de almacenarlos; es más fácil almacenar y acceder a ellos si tenemos un tamaño fijo para todos los elementos.\n"
   ]
  },
  {
   "cell_type": "markdown",
   "id": "equivalent-grass",
   "metadata": {},
   "source": [
    "## NumPy  \n",
    "\n",
    "<img\n",
    "    src=\"assets/02/NumPy.svg\"\n",
    "    alt=\"triangle with all three sides equal\"\n",
    "    width=\"300\" />  \n",
    "    \n",
    " > 🚨 [Citing NumPy](https://numpy.org/citing-numpy/)  \n",
    " \n",
    "Un paquete con que permite operar con arreglos. Es la pieza central en [SciPy](https://www.scipy.org/).\n",
    "\n",
    "Por convención lo verás (casi siempre) como:  \n",
    "\n",
    "```python\n",
    "import numpy as np\n",
    "```"
   ]
  },
  {
   "cell_type": "code",
   "execution_count": null,
   "id": "alternative-pitch",
   "metadata": {},
   "outputs": [],
   "source": [
    "import numpy as np"
   ]
  },
  {
   "cell_type": "markdown",
   "id": "controversial-penalty",
   "metadata": {},
   "source": [
    "Creemos un arreglo..."
   ]
  },
  {
   "cell_type": "code",
   "execution_count": null,
   "id": "first-deficit",
   "metadata": {},
   "outputs": [],
   "source": [
    "my_first_array = np.array([0, 1, 2, 3, 4])\n",
    "print(my_first_array)"
   ]
  },
  {
   "cell_type": "markdown",
   "id": "impossible-attention",
   "metadata": {},
   "source": [
    "## Recordando las propiedades...  "
   ]
  },
  {
   "cell_type": "code",
   "execution_count": null,
   "id": "major-suite",
   "metadata": {},
   "outputs": [],
   "source": [
    "my_second_array = np.array([\n",
    "    [1, 2],\n",
    "    [3, 4],\n",
    "    [5, 6]\n",
    "])"
   ]
  },
  {
   "cell_type": "markdown",
   "id": "decreased-kitchen",
   "metadata": {},
   "source": [
    "### Tipo - `dtype`  \n",
    "\n",
    "Un nombre para *data type*; recuerda: en un *ndarray* todos los valores son del mismo tipo."
   ]
  },
  {
   "cell_type": "code",
   "execution_count": null,
   "id": "casual-porter",
   "metadata": {},
   "outputs": [],
   "source": [
    "print(my_second_array.dtype)"
   ]
  },
  {
   "cell_type": "markdown",
   "id": "bulgarian-discovery",
   "metadata": {},
   "source": [
    "### Tamaño - `shape`"
   ]
  },
  {
   "cell_type": "code",
   "execution_count": null,
   "id": "amber-leather",
   "metadata": {},
   "outputs": [],
   "source": [
    "print(my_second_array.shape)"
   ]
  },
  {
   "cell_type": "markdown",
   "id": "determined-cuisine",
   "metadata": {},
   "source": [
    "El orden dado es (*filas*, *columnas*, *profundidad*, *???*, ...). \n",
    "\n",
    "$\\begin{matrix}\n",
    "1 & 2  \\\\\n",
    "3 & 4  \\\\\n",
    "5 & 6  \\\\\n",
    "\\end{matrix}$\n",
    "\n",
    "`my_second_array` tiene tres filas, dos columnas."
   ]
  },
  {
   "cell_type": "markdown",
   "id": "basic-tongue",
   "metadata": {},
   "source": [
    "### Creación de arreglos"
   ]
  },
  {
   "cell_type": "markdown",
   "id": "existing-spiritual",
   "metadata": {},
   "source": [
    "#### `np.array`  \n",
    "\n",
    "Una de las formas más básicas para crear arreglos es a partir de información existente, por ejemplo, una lista (o una lista de listas):"
   ]
  },
  {
   "cell_type": "code",
   "execution_count": null,
   "id": "particular-findings",
   "metadata": {},
   "outputs": [],
   "source": [
    "my_list = [9.5, 4.5, 6.3]\n",
    "my_arr = np.array(my_list)\n",
    "print(my_arr, my_arr.dtype, my_arr.shape)"
   ]
  },
  {
   "cell_type": "code",
   "execution_count": null,
   "id": "rotary-explanation",
   "metadata": {},
   "outputs": [],
   "source": [
    "multi_dimensional = np.array(\n",
    "    [\n",
    "        [1, 2, 3],\n",
    "        [4, 5, 6]\n",
    "    ]\n",
    ")\n",
    "print(multi_dimensional, multi_dimensional.dtype, multi_dimensional.shape)"
   ]
  },
  {
   "cell_type": "markdown",
   "id": "funded-philadelphia",
   "metadata": {},
   "source": [
    " > ⚠️ **Sobre copiar arreglos...**  \n",
    " > Si necesitamos copiar un arreglo es necesario usar nuevamente `np.array`, o `copy` puesto que los *ndarrays* son mutables y podemos obtener efectos no deseados  "
   ]
  },
  {
   "cell_type": "code",
   "execution_count": null,
   "id": "right-immunology",
   "metadata": {},
   "outputs": [],
   "source": [
    "# Incorrecto\n",
    "a1 = np.array([0,1,2])\n",
    "a2 = a1\n",
    "a1[0] = 5000\n",
    "print(a1)\n",
    "print(a2) "
   ]
  },
  {
   "cell_type": "code",
   "execution_count": null,
   "id": "blocked-optimization",
   "metadata": {},
   "outputs": [],
   "source": [
    "# Correcto\n",
    "a1 = np.array([0,1,2])\n",
    "a2 = a1.copy() # o np.array(a1)\n",
    "a1[0] = 5000\n",
    "print(a1)\n",
    "print(a2) "
   ]
  },
  {
   "cell_type": "markdown",
   "id": "complimentary-financing",
   "metadata": {},
   "source": [
    "#### Arreglos vacíos  \n",
    "\n",
    "También es común que querramos crear arreglos \"vacíos\" o con valores pre-definidos; en lugar de crear un montón de listas llenas de ceros podemos usar `np.zeros`:"
   ]
  },
  {
   "cell_type": "markdown",
   "id": "fifth-airport",
   "metadata": {},
   "source": [
    "#### `np.zeros`"
   ]
  },
  {
   "cell_type": "code",
   "execution_count": null,
   "id": "subsequent-youth",
   "metadata": {},
   "outputs": [],
   "source": [
    "np.zeros((3,))"
   ]
  },
  {
   "cell_type": "code",
   "execution_count": null,
   "id": "senior-olympus",
   "metadata": {},
   "outputs": [],
   "source": [
    "np.zeros((3,3))"
   ]
  },
  {
   "cell_type": "code",
   "execution_count": null,
   "id": "difficult-class",
   "metadata": {},
   "outputs": [],
   "source": [
    "np.zeros((1, 2, 3, 4))"
   ]
  },
  {
   "cell_type": "code",
   "execution_count": null,
   "id": "headed-accountability",
   "metadata": {},
   "outputs": [],
   "source": [
    "np.ones((1, 2, 3, 4))"
   ]
  },
  {
   "cell_type": "markdown",
   "id": "narrative-estonia",
   "metadata": {},
   "source": [
    "#### `np.ones`"
   ]
  },
  {
   "cell_type": "code",
   "execution_count": null,
   "id": "direct-rebecca",
   "metadata": {},
   "outputs": [],
   "source": [
    "np.ones((3,))"
   ]
  },
  {
   "cell_type": "markdown",
   "id": "diagnostic-lying",
   "metadata": {},
   "source": [
    "#### `np.full`  \n",
    "\n",
    "A veces es útil poder crear un arreglo con un valor *específico*:"
   ]
  },
  {
   "cell_type": "code",
   "execution_count": null,
   "id": "motivated-organic",
   "metadata": {},
   "outputs": [],
   "source": [
    "np.full((1,2,3), 1.23)"
   ]
  },
  {
   "cell_type": "markdown",
   "id": "authentic-crime",
   "metadata": {},
   "source": [
    "#### `np.(...)_like`\n",
    "\n",
    "También podemos crear arreglos del mismo tamaño que otros, ya sean llenos con `0`, `1` o cualquier otro valor de preferencia:"
   ]
  },
  {
   "cell_type": "code",
   "execution_count": null,
   "id": "center-thursday",
   "metadata": {},
   "outputs": [],
   "source": [
    "base = np.array([[0.0, 1], [2, 3]])\n",
    "np.zeros_like(base)"
   ]
  },
  {
   "cell_type": "code",
   "execution_count": null,
   "id": "banner-facial",
   "metadata": {},
   "outputs": [],
   "source": [
    "np.ones_like(base)"
   ]
  },
  {
   "cell_type": "code",
   "execution_count": null,
   "id": "german-validation",
   "metadata": {},
   "outputs": [],
   "source": [
    "np.full_like(base, np.pi)"
   ]
  },
  {
   "cell_type": "markdown",
   "id": "existing-gauge",
   "metadata": {},
   "source": [
    "#### Arreglos aleatorios  \n",
    "\n",
    "El aprendizaje automático tiene un componente de aleatoridad, es necesario saber cómo es que nosotros podemos usar esa aleatoridad. NumPy nos permite crear arreglos aleatorios:"
   ]
  },
  {
   "cell_type": "code",
   "execution_count": null,
   "id": "cardiac-wales",
   "metadata": {},
   "outputs": [],
   "source": [
    "np.random.randint(low = 0, high = 10, size = (3, 3))"
   ]
  },
  {
   "cell_type": "code",
   "execution_count": null,
   "id": "collaborative-beatles",
   "metadata": {},
   "outputs": [],
   "source": [
    "np.random.uniform(low = 1, high = 2, size = (2, 3))"
   ]
  },
  {
   "cell_type": "code",
   "execution_count": null,
   "id": "regulated-integration",
   "metadata": {},
   "outputs": [],
   "source": [
    "np.random.normal(loc = 0, scale = 1, size = (2, 3))"
   ]
  },
  {
   "cell_type": "markdown",
   "id": "informational-indianapolis",
   "metadata": {},
   "source": [
    "#### Secuencias  \n",
    "\n",
    "Otra de las herramientas muy útiles dentro de *NumPy* es la generación de secuencias incrementales."
   ]
  },
  {
   "cell_type": "markdown",
   "id": "handmade-stanford",
   "metadata": {},
   "source": [
    "#### `np.arange`  \n",
    "\n",
    "Una funcionalidad similar a `range` en Python, solo que en lugar de regresar un generador, `np.arange` retorna un *ndarray*:"
   ]
  },
  {
   "cell_type": "code",
   "execution_count": null,
   "id": "standing-upper",
   "metadata": {},
   "outputs": [],
   "source": [
    "np.arange(10)"
   ]
  },
  {
   "cell_type": "code",
   "execution_count": null,
   "id": "respected-engineering",
   "metadata": {},
   "outputs": [],
   "source": [
    "np.arange(-10, 10)"
   ]
  },
  {
   "cell_type": "code",
   "execution_count": null,
   "id": "satisfied-quebec",
   "metadata": {},
   "outputs": [],
   "source": [
    "np.arange(start = 1, stop = 11, step = 2)"
   ]
  },
  {
   "cell_type": "code",
   "execution_count": null,
   "id": "quantitative-amber",
   "metadata": {},
   "outputs": [],
   "source": [
    "np.arange(start = 11, stop = 1, step = -2)"
   ]
  },
  {
   "cell_type": "code",
   "execution_count": null,
   "id": "becoming-lottery",
   "metadata": {},
   "outputs": [],
   "source": [
    "np.arange(start = 1.1, stop = 2.1, step = 0.1)"
   ]
  },
  {
   "cell_type": "markdown",
   "id": "specialized-string",
   "metadata": {},
   "source": [
    " > ⚠️ Los límites en `np.arange` son $[start, end)$, es decir, `start` es inclusivo mientras que `end` es exclusivo por default."
   ]
  },
  {
   "cell_type": "markdown",
   "id": "flexible-county",
   "metadata": {},
   "source": [
    "#### `np.linspace`  \n",
    "\n",
    "Si bien `np.arange` nos permite usar fracciones para determinar el tamaño del incremento; no es la mejor manera para generar sucesiones fraccionarias entre números, para eso podemos usar `np.linspace`"
   ]
  },
  {
   "cell_type": "code",
   "execution_count": null,
   "id": "absolute-garage",
   "metadata": {},
   "outputs": [],
   "source": [
    "np.linspace(0, 5, 5)"
   ]
  },
  {
   "cell_type": "code",
   "execution_count": null,
   "id": "minus-county",
   "metadata": {},
   "outputs": [],
   "source": [
    "np.linspace(-10, 10, 15)"
   ]
  },
  {
   "cell_type": "code",
   "execution_count": null,
   "id": "global-tomorrow",
   "metadata": {},
   "outputs": [],
   "source": [
    "np.linspace(start = 3.5, stop = 3.6, num = 10)"
   ]
  },
  {
   "cell_type": "markdown",
   "id": "certified-budget",
   "metadata": {},
   "source": [
    " > ⚠️ A diferencia de `np.arange`, en `np.linspace` los límit4es son $[start, stop]$, es decir, ambos son inclusivos por default."
   ]
  },
  {
   "cell_type": "markdown",
   "id": "green-ethiopia",
   "metadata": {},
   "source": [
    "### Indexación  \n",
    "\n",
    "Como cualquier secuencia en Python, los *ndarrays* también nos permiten acceder a los valores individuales que los forman usando la notación `[]`:"
   ]
  },
  {
   "cell_type": "code",
   "execution_count": null,
   "id": "exempt-prison",
   "metadata": {},
   "outputs": [],
   "source": [
    "index_me = np.array([\n",
    "    [1, 2, 3],\n",
    "    [4, 5, 6],\n",
    "    [7, 8, 9]\n",
    "])\n",
    "\n",
    "print(index_me[0])"
   ]
  },
  {
   "cell_type": "code",
   "execution_count": null,
   "id": "regional-desperate",
   "metadata": {},
   "outputs": [],
   "source": [
    "print(index_me[0][1])"
   ]
  },
  {
   "cell_type": "markdown",
   "id": "dutch-contribution",
   "metadata": {},
   "source": [
    "Tenemos a nuestra disposición otra sintaxis para realizar indexación múltiple; nos vamos a asistir de la `,`:"
   ]
  },
  {
   "cell_type": "code",
   "execution_count": null,
   "id": "veterinary-headquarters",
   "metadata": {},
   "outputs": [],
   "source": [
    "print(index_me[0, 1])"
   ]
  },
  {
   "cell_type": "markdown",
   "id": "arbitrary-brown",
   "metadata": {},
   "source": [
    "### *Slicing*  \n",
    "\n",
    " > 🤠 El [slicing](https://docs.python.org/2.3/whatsnew/section-slices.html) en Python es una de las caracterísitcas más interesantes, porque además de permitirnos especificar los puntos de inicio y fin del *slicing*, también nos permite especificar el tamaño del paso a dar. \n",
    " \n",
    "Los *ndarrays* también soportan el *slicing*:"
   ]
  },
  {
   "cell_type": "code",
   "execution_count": null,
   "id": "strange-cleaner",
   "metadata": {},
   "outputs": [],
   "source": [
    "index_me[:,:]"
   ]
  },
  {
   "cell_type": "code",
   "execution_count": null,
   "id": "biblical-component",
   "metadata": {},
   "outputs": [],
   "source": [
    "index_me[:, 0] # Primera columna"
   ]
  },
  {
   "cell_type": "code",
   "execution_count": null,
   "id": "meaning-cartridge",
   "metadata": {},
   "outputs": [],
   "source": [
    "index_me[:, 1:] # Últimas dos columnas"
   ]
  },
  {
   "cell_type": "code",
   "execution_count": null,
   "id": "burning-hierarchy",
   "metadata": {},
   "outputs": [],
   "source": [
    "index_me[1:, 1:]"
   ]
  },
  {
   "cell_type": "code",
   "execution_count": null,
   "id": "assured-happiness",
   "metadata": {},
   "outputs": [],
   "source": [
    "long_array = np.arange(10, 20)\n",
    "\n",
    "print(long_array)"
   ]
  },
  {
   "cell_type": "code",
   "execution_count": null,
   "id": "relevant-discount",
   "metadata": {},
   "outputs": [],
   "source": [
    "print(long_array[2:6])"
   ]
  },
  {
   "cell_type": "code",
   "execution_count": null,
   "id": "expired-preparation",
   "metadata": {},
   "outputs": [],
   "source": [
    "print(long_array[2:-2])"
   ]
  },
  {
   "cell_type": "code",
   "execution_count": null,
   "id": "greek-bidder",
   "metadata": {},
   "outputs": [],
   "source": [
    "print(long_array[::3])"
   ]
  },
  {
   "cell_type": "code",
   "execution_count": null,
   "id": "active-herald",
   "metadata": {},
   "outputs": [],
   "source": [
    "print(long_array[::-1])"
   ]
  },
  {
   "cell_type": "markdown",
   "id": "characteristic-reset",
   "metadata": {},
   "source": [
    "### Asignación de valores  \n",
    "\n",
    "A recordar que los *ndarrays* son mutables; podemos cambiar los valores de un arreglo usando indexación y *slicing*"
   ]
  },
  {
   "cell_type": "code",
   "execution_count": null,
   "id": "introductory-edinburgh",
   "metadata": {},
   "outputs": [],
   "source": [
    "arreglo = np.arange(0, 20)\n",
    "\n",
    "print(arreglo)"
   ]
  },
  {
   "cell_type": "code",
   "execution_count": null,
   "id": "artificial-accordance",
   "metadata": {},
   "outputs": [],
   "source": [
    "arreglo[0] = -500\n",
    "print(arreglo)"
   ]
  },
  {
   "cell_type": "code",
   "execution_count": null,
   "id": "dependent-force",
   "metadata": {},
   "outputs": [],
   "source": [
    "arreglo[::2] = -100\n",
    "print(arreglo)"
   ]
  },
  {
   "cell_type": "code",
   "execution_count": null,
   "id": "horizontal-drain",
   "metadata": {},
   "outputs": [],
   "source": [
    "arreglo[2:5:] = 0\n",
    "print(arreglo)"
   ]
  },
  {
   "cell_type": "markdown",
   "id": "powerful-qualification",
   "metadata": {},
   "source": [
    "### *Playground*\n",
    "\n",
    "<img src=\"assets/02/filip-gielda-VPavA7BBxK0-unsplash.jpg\" />\n",
    "\n",
    "Photo by <a href=\"https://unsplash.com/@filipovsky?utm_source=unsplash&utm_medium=referral&utm_content=creditCopyText\">Filip Gielda</a> on <a href=\"/s/photos/mexico?utm_source=unsplash&utm_medium=referral&utm_content=creditCopyText\">Unsplash</a>\n",
    "  "
   ]
  },
  {
   "cell_type": "code",
   "execution_count": null,
   "id": "valuable-petroleum",
   "metadata": {},
   "outputs": [],
   "source": [
    "import matplotlib.pyplot as plt\n",
    "import matplotlib.image as mpimg \n",
    "\n",
    "chichen_itza = mpimg.imread('assets/02/filip-gielda-VPavA7BBxK0-unsplash.jpg')\n",
    "print(type(chichen_itza))\n",
    "print(chichen_itza.dtype)\n",
    "print(chichen_itza.shape)\n",
    "\n",
    "plt.imshow(chichen_itza[\n",
    "    80:170,\n",
    "    230:400\n",
    "])"
   ]
  },
  {
   "cell_type": "code",
   "execution_count": null,
   "id": "organized-cargo",
   "metadata": {},
   "outputs": [],
   "source": [
    "ci_copy = chichen_itza[80:170, 230:400].copy()\n",
    "ci_copy[::2,::2, :] = 0\n",
    "plt.imshow(ci_copy)"
   ]
  },
  {
   "cell_type": "code",
   "execution_count": null,
   "id": "younger-jersey",
   "metadata": {},
   "outputs": [],
   "source": [
    "ci_copy = chichen_itza[::4, ::4].copy()\n",
    "plt.imshow(ci_copy)"
   ]
  },
  {
   "cell_type": "markdown",
   "id": "threaded-bulgaria",
   "metadata": {},
   "source": [
    "### Operaciones arreglo-escalar"
   ]
  },
  {
   "cell_type": "code",
   "execution_count": null,
   "id": "therapeutic-taste",
   "metadata": {},
   "outputs": [],
   "source": [
    "# Suma\n",
    "test1 = np.arange(10, 15)\n",
    "print(test1)\n",
    "print(test1 + 10)"
   ]
  },
  {
   "cell_type": "code",
   "execution_count": null,
   "id": "earned-financing",
   "metadata": {},
   "outputs": [],
   "source": [
    "# Multiplicaciones\n",
    "print(test1 * 10)\n",
    "print(test1 / 10)"
   ]
  },
  {
   "cell_type": "code",
   "execution_count": null,
   "id": "confidential-assets",
   "metadata": {},
   "outputs": [],
   "source": [
    "# cos, abs, pow\n",
    "test2 = np.arange(-5, 5)\n",
    "print(test2)\n",
    "print(np.abs(test2))\n",
    "print(np.cos(test2))\n",
    "print(np.power(test2, 2))"
   ]
  },
  {
   "cell_type": "markdown",
   "id": "social-finance",
   "metadata": {},
   "source": [
    "### Operaciones elemento-elemento"
   ]
  },
  {
   "cell_type": "code",
   "execution_count": null,
   "id": "tamil-worse",
   "metadata": {},
   "outputs": [],
   "source": [
    "# Suma\n",
    "a = np.arange(10, 15)\n",
    "b = np.arange(20, 25)\n",
    "print(a, b)\n",
    "print(a + b)\n",
    "print(a - b)"
   ]
  },
  {
   "cell_type": "code",
   "execution_count": null,
   "id": "right-transport",
   "metadata": {},
   "outputs": [],
   "source": [
    "# Multiplicación\n",
    "print(a * b)\n",
    "print(a / b)"
   ]
  },
  {
   "cell_type": "markdown",
   "id": "middle-plate",
   "metadata": {},
   "source": [
    "### *Broadcasting*  \n",
    "\n",
    "Las operaciones elemento a elemento funcionan **siempre y cuando** los arreglos con los que estamos operando sean del mismo tamaño y forma... ¿pero qué sucede cuando no es así? \n",
    "\n",
    "Aún así podemos realizar operaciones bajo ciertas condiciones en nuestros operandos `x` e `y`:    \n",
    "\n",
    " - Si `x` es un areglo e `y` un escalar, el escalar actúa sobre todos los elementos del arreglo.  \n",
    " - Si `x` e `y` tienen las mismas dimensiones y tamaños, la operación sucede elemento a elemento.   \n",
    " - Si uno de los operandos tiene menos dimensiones que el otro, y las **ultimas dimensiones** del izquierdo coinciden con la forma del operando derecho, las operaciones suceden repitiendo el elemento derecho tantas veces como sea necesario\n",
    " \n",
    "     - `(2, 2) * (2,)` ✅ \n",
    "     - `(1, 2, 3) * (2, 3)` ✅ \n",
    "     - `(10, 20, 20) * (20,)` ✅ \n",
    "     - `(10, 20, 20) * (10,20)` ❌\n",
    "     - `(10,) * (20,)` ❌"
   ]
  },
  {
   "cell_type": "code",
   "execution_count": null,
   "id": "historical-audio",
   "metadata": {},
   "outputs": [],
   "source": [
    "vector = np.array([1, 2, 3, 4])\n",
    "unos = np.ones((3, 4))\n",
    "print(unos.shape, vector.shape)"
   ]
  },
  {
   "cell_type": "code",
   "execution_count": null,
   "id": "previous-twins",
   "metadata": {},
   "outputs": [],
   "source": [
    "print(unos + vector)"
   ]
  },
  {
   "cell_type": "code",
   "execution_count": null,
   "id": "numeric-diana",
   "metadata": {},
   "outputs": [],
   "source": [
    "print(unos / vector)"
   ]
  },
  {
   "cell_type": "markdown",
   "id": "attended-verification",
   "metadata": {},
   "source": [
    "### Transposición\n",
    "\n",
    "Una de las operaciones más comunes sobre matrices es la transposición, *NumPy* ofrece una sintaxis especial: `array.T`:"
   ]
  },
  {
   "cell_type": "code",
   "execution_count": null,
   "id": "subtle-federation",
   "metadata": {},
   "outputs": [],
   "source": [
    "matriz = np.array([\n",
    "    [1, 2, 3, 4],\n",
    "    [0, 0, 0, 0],\n",
    "    [1, 2, 3, 4],\n",
    "])\n",
    "\n",
    "print(matriz)\n",
    "print(matriz.T)"
   ]
  },
  {
   "cell_type": "markdown",
   "id": "offensive-importance",
   "metadata": {},
   "source": [
    "### Transformación de arreglos\n",
    "\n",
    " > ❓❓❓ ¿hacemos otro live opcional?"
   ]
  },
  {
   "cell_type": "markdown",
   "id": "flexible-reconstruction",
   "metadata": {},
   "source": [
    "### Indexación \"elegante\"\n",
    "\n",
    "Ya vimos cómo acceder a elementos mediante indexación y *slicing*, pero *NumPy* permite otro tipo de indexación, conocida como 💅*Fancy Indexing* 🎩."
   ]
  },
  {
   "cell_type": "markdown",
   "id": "female-diameter",
   "metadata": {},
   "source": [
    "#### Arreglos como índices\n",
    "\n",
    "Podemos usar otros arreglos como índices"
   ]
  },
  {
   "cell_type": "code",
   "execution_count": null,
   "id": "imposed-corps",
   "metadata": {},
   "outputs": [],
   "source": [
    "indexing_array = np.array([3, 2 , 5, 1, 4])\n",
    "original_array = np.arange(10, 20)\n",
    "\n",
    "print(original_array[indexing_array])"
   ]
  },
  {
   "cell_type": "code",
   "execution_count": null,
   "id": "exact-egypt",
   "metadata": {},
   "outputs": [],
   "source": [
    "indexing_array = np.array([0, 0, 0, 0, 1, 2, 2])\n",
    "print(original_array[indexing_array])"
   ]
  },
  {
   "cell_type": "code",
   "execution_count": null,
   "id": "partial-stick",
   "metadata": {},
   "outputs": [],
   "source": [
    "indexing_array = np.array([0])\n",
    "print(original_array[indexing_array])"
   ]
  },
  {
   "cell_type": "markdown",
   "id": "digital-glass",
   "metadata": {},
   "source": [
    "#### Máscaras - booleanos como índices  \n",
    "\n",
    "También podemos usar arreglos booleanos como índices 🤔"
   ]
  },
  {
   "cell_type": "code",
   "execution_count": null,
   "id": "warming-remainder",
   "metadata": {},
   "outputs": [],
   "source": [
    "booleans = [True, False, True, False, False]\n",
    "original_array = np.arange(5)\n",
    "\n",
    "print(original_array)\n",
    "print(original_array[booleans])"
   ]
  },
  {
   "cell_type": "code",
   "execution_count": null,
   "id": "equivalent-basketball",
   "metadata": {},
   "outputs": [],
   "source": [
    "original_array = np.arange(22)\n",
    "even_numbers = original_array % 2 == 0\n",
    "\n",
    "print(original_array)\n",
    "print(original_array[even_numbers])\n",
    "print(original_array[original_array > 10])"
   ]
  },
  {
   "cell_type": "markdown",
   "id": "subtle-conflict",
   "metadata": {},
   "source": [
    "### Agregaciones  \n",
    "\n",
    "Siempre es una buena idea echarle un ojo a algunas caracrerísticas de nuestros datos a través de información agregada o sintetizada."
   ]
  },
  {
   "cell_type": "code",
   "execution_count": null,
   "id": "empirical-ranch",
   "metadata": {},
   "outputs": [],
   "source": [
    "bitcoin_prices = np.array([\n",
    "    59_295.50, 45_164.00, 33_108.10, 28_949.40, 19_698.10,\n",
    "    13_797.30, 10_776.10, 11_644.20, 11_333.40,  9_135.40,\n",
    "     9_454.80,  8_629.00,  6_412.50,  8_543.70,  9_349.10,\n",
    "     7_196.40,  7_546.60,  9_152.60,  8_284.30,  9_594.40,\n",
    "    10_082.00, 10_818.60,  8_558.30,  5_320.80,  4_102.30,\n",
    "])"
   ]
  },
  {
   "cell_type": "markdown",
   "id": "electric-investment",
   "metadata": {},
   "source": [
    "#### Estadística - mean, median, desviación estándar  "
   ]
  },
  {
   "cell_type": "code",
   "execution_count": null,
   "id": "purple-hearts",
   "metadata": {},
   "outputs": [],
   "source": [
    "print(np.mean(bitcoin_prices))\n",
    "print(np.median(bitcoin_prices))\n",
    "print(np.std(bitcoin_prices))"
   ]
  },
  {
   "cell_type": "markdown",
   "id": "convertible-allocation",
   "metadata": {},
   "source": [
    "#### Mínimos y máximos"
   ]
  },
  {
   "cell_type": "code",
   "execution_count": null,
   "id": "adjustable-booth",
   "metadata": {},
   "outputs": [],
   "source": [
    "print(np.max(bitcoin_prices))\n",
    "print(np.min(bitcoin_prices))"
   ]
  },
  {
   "cell_type": "markdown",
   "id": "sacred-vancouver",
   "metadata": {},
   "source": [
    "#### Agregaciones en *N*-dimensiones"
   ]
  },
  {
   "cell_type": "code",
   "execution_count": null,
   "id": "imposed-resource",
   "metadata": {},
   "outputs": [],
   "source": [
    "ndimensional = np.array([\n",
    "    [\n",
    "        [1, 2, 3],\n",
    "        [4, 5, 6],\n",
    "        [7, 8, 9],\n",
    "    ],\n",
    "    [\n",
    "        [1, 2, 3],\n",
    "        [1, 2, 3],\n",
    "        [1, 2, 3],\n",
    "    ],\n",
    "])\n",
    "\n",
    "ndimensional.shape"
   ]
  },
  {
   "cell_type": "code",
   "execution_count": null,
   "id": "twenty-audit",
   "metadata": {},
   "outputs": [],
   "source": [
    "np.mean(ndimensional)"
   ]
  },
  {
   "cell_type": "code",
   "execution_count": null,
   "id": "tutorial-butterfly",
   "metadata": {},
   "outputs": [],
   "source": [
    "axis_0 = np.mean(ndimensional, axis=0)\n",
    "\n",
    "# [[ (1 + 1) / 2, (2 + 2) / 2, (3 + 3) / 2 ]  \n",
    "#  [ (4 + 1) / 2, (5 + 2) / 2, (6 + 3) / 2 ]\n",
    "#  [ (7 + 1) / 2, (8 + 2) / 2, (9 + 3) / 2 ]]\n",
    "print(axis_0.shape)\n",
    "print(axis_0)"
   ]
  },
  {
   "cell_type": "code",
   "execution_count": null,
   "id": "injured-princess",
   "metadata": {},
   "outputs": [],
   "source": [
    "axis_1 = np.mean(ndimensional, axis=1)\n",
    "\n",
    "# [[ (1 + 4 + 7) / 3, (2 + 5 + 8) / 3, (3 + 6 + 9) / 3 ]  \n",
    "#  [ (1 + 1 + 1) / 3, (2 + 2 + 2) / 3, (3 + 3 + 4) / 3 ]]\n",
    "print(axis_1.shape)\n",
    "print(axis_1)"
   ]
  },
  {
   "cell_type": "code",
   "execution_count": null,
   "id": "romance-bedroom",
   "metadata": {},
   "outputs": [],
   "source": [
    "axis_2 = np.mean(ndimensional, axis=2)\n",
    "\n",
    "# [[ (1 + 2 + 3) / 3, (4 + 5 + 6) / 3, (7 + 8 + 9) / 3 ]  \n",
    "#  [ (1 + 2 + 3) / 3, (1 + 2 + 3) / 3, (1 + 2 + 3) / 3 ]]\n",
    "print(axis_2.shape)\n",
    "print(axis_2)"
   ]
  },
  {
   "cell_type": "markdown",
   "id": "worth-paraguay",
   "metadata": {},
   "source": [
    "### Persistencia  \n",
    "\n",
    "En algún momento vamos a querer almacenar nuestros arreglos, *NumPy* nos deja hacerlo en forma de archivos de texto (1 y 2 dimensiones):"
   ]
  },
  {
   "cell_type": "code",
   "execution_count": null,
   "id": "filled-estonia",
   "metadata": {},
   "outputs": [],
   "source": [
    "to_save = np.array([\n",
    "    [1, 2, 3],\n",
    "    [4, 5, 6],\n",
    "    [7, 8, 9],\n",
    "])\n",
    "\n",
    "np.savetxt(\"multidimensional.txt\", to_save)\n",
    "\n",
    "loaded = np.loadtxt(\"multidimensional.txt\")\n",
    "\n",
    "print(loaded)"
   ]
  },
  {
   "cell_type": "markdown",
   "id": "floating-electricity",
   "metadata": {},
   "source": [
    "### Extra - velocidades"
   ]
  },
  {
   "cell_type": "code",
   "execution_count": null,
   "id": "severe-paint",
   "metadata": {},
   "outputs": [],
   "source": [
    "a_list = list(range(100_000))\n",
    "b_list = list(range(100_000))\n",
    "\n",
    "a_array = np.array(a_list)\n",
    "b_array = np.array(b_list)\n",
    "\n",
    "def add_list(a,b):    \n",
    "    for i in range(len(a)):\n",
    "        a[i] += b[i]\n",
    "        \n",
    "def add_array(a,b):\n",
    "    a += b"
   ]
  },
  {
   "cell_type": "code",
   "execution_count": null,
   "id": "parallel-surgeon",
   "metadata": {},
   "outputs": [],
   "source": [
    "%timeit add_list(a_list,b_list)"
   ]
  },
  {
   "cell_type": "code",
   "execution_count": null,
   "id": "cordless-collectible",
   "metadata": {},
   "outputs": [],
   "source": [
    "%timeit add_array(a_list,b_list)"
   ]
  },
  {
   "cell_type": "markdown",
   "id": "polar-spoke",
   "metadata": {},
   "source": [
    "----------\n",
    "\n",
    "## Referencias  \n",
    "\n",
    "### Libros  \n",
    "\n",
    " - **Elegant SciPy: The Art of Scientific Python**: [México](https://amzn.to/3c0ZNZM) &middot; [España](https://amzn.to/30WWmge) · [US](https://amzn.to/2PbkbhC)  \n",
    " - **High Performance Python: Practical Performant Programming for Humans**: [México](https://amzn.to/310hEtt) &middot; [España](https://amzn.to/3cVZsXD) · [US](https://amzn.to/3s9eUFW)  \n",
    "\n",
    "\n",
    "### Sitios web  \n",
    "\n",
    " - **From Python to NumPy** - [https://www.labri.fr/perso/nrougier/from-python-to-numpy/](https://www.labri.fr/perso/nrougier/from-python-to-numpy/) \n",
    " - **100 NumPy excercises** - [https://github.com/rougier/numpy-100](https://github.com/rougier/numpy-100)\n",
    " - **NumPy Cheat Sheet — Python for Data Science** - [https://www.dataquest.io/blog/numpy-cheat-sheet/](https://www.dataquest.io/blog/numpy-cheat-sheet/)"
   ]
  }
 ],
 "metadata": {
  "kernelspec": {
   "display_name": "Python 3",
   "language": "python",
   "name": "python3"
  },
  "language_info": {
   "codemirror_mode": {
    "name": "ipython",
    "version": 3
   },
   "file_extension": ".py",
   "mimetype": "text/x-python",
   "name": "python",
   "nbconvert_exporter": "python",
   "pygments_lexer": "ipython3",
   "version": "3.8.6"
  }
 },
 "nbformat": 4,
 "nbformat_minor": 5
}
