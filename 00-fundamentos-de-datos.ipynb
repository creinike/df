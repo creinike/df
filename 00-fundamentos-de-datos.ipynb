{
 "cells": [
  {
   "cell_type": "markdown",
   "id": "centered-accommodation",
   "metadata": {},
   "source": [
    "# 00: Fundamentos de datos 🤔  \n",
    "\n",
    "Una breve introducción a las herramientas para hacer ciencia de datos; *machine learning*, *computer graphics*, *computer vision*, *information retrieval*, *artificial intelligence*, y tal vez, *signal processing*. \n",
    "\n",
    "Como el nombre lo dice: son los fundamentos. No vamos a ver **nada** de *machine learning*, pero vamos a ver las herramientas que ayudan a entender y a implementarlo.\n",
    "\n",
    "El curso tiene un enfoque netamente orientado a las ciencias de la computación con muchísimo énfasis en programación; hablaré un poco de matemáticas pero nada demasiado teórico. "
   ]
  },
  {
   "cell_type": "markdown",
   "id": "minus-hardware",
   "metadata": {},
   "source": [
    "## Pre-requisitos\n",
    "\n",
    "- ¡Programación! - Python 🐍: Idealmente tienes conocimiento sobre programación, el lenguaje es relativamente sencillo de aprender. Si tienes alguna duda con algo de las sintaxis, ya sabes: en los comentarios de este video o en [mi cuenta de Twitter @io_exception](https://twitter.com/io_exception).\n",
    "- Matemáticas: Como ya lo mencioné, el curso esta orientado primordialmente a resolver problemas desde un enfoque computacional, pero si necesitas tener conocimientos básicos sobre:\n",
    "    - Álgebra lineal\n",
    "    - Cálculo\n",
    "    - Probabilidad\n"
   ]
  },
  {
   "cell_type": "markdown",
   "id": "atomic-strain",
   "metadata": {},
   "source": [
    "## Herramientas\n",
    "\n",
    "- Python 3.8.7\n",
    "- Jupyter Lab"
   ]
  },
  {
   "cell_type": "markdown",
   "id": "quiet-gnome",
   "metadata": {},
   "source": [
    "## Temario\n",
    "\n",
    "1. Jupyter Lab\n",
    "2. Cómputo vectorizado\n",
    "3. Visualización de datos\n",
    "4. Álgebra Lineal\n",
    "5. Optimización numérica\n",
    "6. Probabilidad\n",
    "7. Procesamiento de señales (???)"
   ]
  },
  {
   "cell_type": "markdown",
   "id": "little-interaction",
   "metadata": {},
   "source": [
    "## Sesiones\n",
    "\n",
    " - 01: Jupyter Lab"
   ]
  },
  {
   "cell_type": "markdown",
   "id": "sunset-convention",
   "metadata": {},
   "source": [
    "## Libros  \n",
    "\n",
    "En este curso vamos a hablar de muchos temas y por tanto no hay un solo libro que te pueda decir \"este, este tiene todo\", sin embargo si tienes ganas locas de leer algo para complementar tu aprendizaje, te recomiendo estos:"
   ]
  },
  {
   "cell_type": "code",
   "execution_count": null,
   "id": "civil-crazy",
   "metadata": {
    "tags": [
     "non-visible"
    ]
   },
   "outputs": [],
   "source": [
    "# 😅 ignorame, yo nadamás estoy generando una tabla en HTML\n",
    "from IPython.core.display import display, HTML\n",
    "from dataclasses import dataclass\n",
    "from typing import List\n",
    "\n",
    "\n",
    "@dataclass\n",
    "class Libro:\n",
    "    name: str\n",
    "    enlaces: List[str]\n",
    "\n",
    "\n",
    "flags = {\"mx\": \"🇲🇽 México\", \"es\": \"🇪🇸 España\"}\n",
    "\n",
    "libros = [\n",
    "    Libro(\n",
    "        \"Mathematical notation - A guide for engineers and scientists\",\n",
    "        [\n",
    "            (\"mx\", \"https://amzn.to/3kxi0Rc\"),\n",
    "            (\"es\", \"https://amzn.to/3sDZo4M\")\n",
    "        ],\n",
    "    ),\n",
    "    Libro(\n",
    "        \"A Programmer's introduction to Mathematics\",\n",
    "        [\n",
    "            (\"mx\", \"https://amzn.to/3rc8UvW\"),\n",
    "            (\"es\", \"https://amzn.to/3uGzMpV\")\n",
    "        ],\n",
    "    ),\n",
    "    Libro(\n",
    "        \"Elegant SciPy\",\n",
    "        [\n",
    "            (\"mx\", \"https://amzn.to/3r5bC6l\"),\n",
    "            (\"es\", \"https://amzn.to/3sDZo4M\")\n",
    "        ],\n",
    "    ),\n",
    "]\n",
    "\n",
    "table = \"<table><tr><th>Libro</th><th>Enlaces</th></tr>\"\n",
    "content = [\n",
    "    f\"<tr><td>{libro.name}</td><td>\"\n",
    "    + (\n",
    "        \"<br />\".join(\n",
    "            [\n",
    "                f'<a href=\"{enlace[1]}\">{flags[enlace[0]]}</a>'\n",
    "                for enlace in libro.enlaces\n",
    "            ]\n",
    "        )\n",
    "    )\n",
    "    + \"</td></tr>\"\n",
    "    for libro in libros\n",
    "]\n",
    "table = (\n",
    "    table\n",
    "    + (\"\".join(content))\n",
    "    + \"</table>*Los enlaces de arriba son enlaces de afiliado\"\n",
    ")\n",
    "display(HTML(table))\n"
   ]
  },
  {
   "cell_type": "code",
   "execution_count": null,
   "id": "stainless-visit",
   "metadata": {},
   "outputs": [],
   "source": []
  }
 ],
 "metadata": {
  "kernelspec": {
   "display_name": "Python 3",
   "language": "python",
   "name": "python3"
  },
  "language_info": {
   "codemirror_mode": {
    "name": "ipython",
    "version": 3
   },
   "file_extension": ".py",
   "mimetype": "text/x-python",
   "name": "python",
   "nbconvert_exporter": "python",
   "pygments_lexer": "ipython3",
   "version": "3.8.6"
  }
 },
 "nbformat": 4,
 "nbformat_minor": 5
}
